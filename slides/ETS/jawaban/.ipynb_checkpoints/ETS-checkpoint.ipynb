{
 "cells": [
  {
   "cell_type": "markdown",
   "metadata": {},
   "source": [
    "# ETS 2016"
   ]
  },
  {
   "cell_type": "markdown",
   "metadata": {},
   "source": [
    "## soal1 \n",
    "\n",
    "a) salah satu penerapan mekanisme dari enkapsulasi adalah menggunakan acces modifier berupa `private`, `public` dan `protected`. Jelaskan pengertian dari ketiga modifier tersebut\n",
    "### jawab\n",
    "\n",
    "| modifier | class | package | subclass | world \n",
    "| ---------|:-----:| :-----:| :-----:|-----:|\n",
    "| public   | ✅    | ✅ |✅ | ✅|✅ |\n",
    "| protected| ✅    | ✅ | ✅|❌ |❌ |\n",
    "| private  | ✅    | ❌ | ❌| ❌|❌ |"
   ]
  },
  {
   "cell_type": "markdown",
   "metadata": {},
   "source": [
    "b) Jelaskan pengertian override dan overload dan berikan contohnya \n",
    "### jawab\n",
    "`override`    \n",
    "`overload` "
   ]
  },
  {
   "cell_type": "markdown",
   "metadata": {},
   "source": [
    "## soal2"
   ]
  },
  {
   "cell_type": "code",
   "execution_count": 10,
   "metadata": {},
   "outputs": [],
   "source": [
    "class Hewan{\n",
    "protected String warna; \n",
    "    public Hewan(){\n",
    "        System.out.println(\"Hendaklah bumi mengeluarkan segala jenis makhluk yang hidup, ternak dan binatang melata\");\n",
    "        warna = \"hitam\";\n",
    "    }\n",
    "    public String getket(){\n",
    "        return \"HEWAN\";\n",
    "    }\n",
    "}"
   ]
  },
  {
   "cell_type": "code",
   "execution_count": 11,
   "metadata": {},
   "outputs": [],
   "source": [
    "class Burung extends Hewan{\n",
    "    public String getket(){\n",
    "        return \"Burung\"; \n",
    "    }\n",
    "}"
   ]
  },
  {
   "cell_type": "code",
   "execution_count": 12,
   "metadata": {},
   "outputs": [],
   "source": [
    "class Gagak extends Burung{\n",
    "    public Gagak(){\n",
    "        System.out.println(\"dan jadilah gagak\");\n",
    "        warna = \"Coklat\";\n",
    "    }\n",
    "}"
   ]
  },
  {
   "cell_type": "code",
   "execution_count": 13,
   "metadata": {},
   "outputs": [],
   "source": [
    "public static void cetak(Hewan x){\n",
    "    System.out.println(x.getket() +\"----\"+x.warna); \n",
    "}"
   ]
  },
  {
   "cell_type": "code",
   "execution_count": 14,
   "metadata": {},
   "outputs": [
    {
     "name": "stdout",
     "output_type": "stream",
     "text": [
      "Hendaklah bumi mengeluarkan segala jenis makhluk yang hidup, ternak dan binatang melata\n",
      "dan jadilah gagak\n",
      "Burung----Coklat\n",
      "Hendaklah bumi mengeluarkan segala jenis makhluk yang hidup, ternak dan binatang melata\n",
      "Burung----hitam\n",
      "Hendaklah bumi mengeluarkan segala jenis makhluk yang hidup, ternak dan binatang melata\n",
      "HEWAN----hitam\n"
     ]
    }
   ],
   "source": [
    "Gagak BG = new Gagak(); \n",
    "cetak(BG); \n",
    "cetak(new Burung()); \n",
    "cetak(new Hewan()); "
   ]
  },
  {
   "cell_type": "markdown",
   "metadata": {},
   "source": [
    "bikin sendiri UML-nya"
   ]
  },
  {
   "cell_type": "markdown",
   "metadata": {},
   "source": [
    "## soal 3"
   ]
  },
  {
   "cell_type": "markdown",
   "metadata": {},
   "source": [
    "rancang sebuah class bernama `Vektor2D` untuk mendeskripsikan data vektor 2D, class mempunyai \n",
    "1. dua data field (private) yaitu x dan y --> representasi elemen vektor\n",
    "2. sebuah konstruktor dengan argumen untuk x dan y \n",
    "3. dua method get() untuk ambil x dan y \n",
    "4. sebuah method `Display(Vektor2D V)` untuk menampilkan data elemen vektor V\n",
    "5. Sebuah method bernama `SumVec (Vektor2D V)` yang mengembalikan objek `Vektor2D` sebagai hasil penjumlahan dair 2 objek `Vektor2D`\n",
    "6. Sebuah method bernama `isVektorNol()` yang mengembalikan nilai `true` jika elemen vektor bernilai 0(nol)\n",
    "7. Buat satu class `TestSoal` yang berisi method main untuk membuat tiga objeck `Vektor2D` menggunakan method `Display`, `SumVec`, dan `isVektorNol`"
   ]
  },
  {
   "cell_type": "markdown",
   "metadata": {},
   "source": [
    "[link to jawaban](soal3_2016.java)"
   ]
  },
  {
   "cell_type": "markdown",
   "metadata": {},
   "source": [
    "## soal 4"
   ]
  },
  {
   "cell_type": "markdown",
   "metadata": {},
   "source": [
    "![](image/soal4.png)"
   ]
  },
  {
   "cell_type": "markdown",
   "metadata": {},
   "source": [
    "[link to jawaban](soal4_2016.java)"
   ]
  },
  {
   "cell_type": "markdown",
   "metadata": {},
   "source": [
    "## soal 5\n",
    "```java \n",
    "public static void main(String args[]){\n",
    "    Calculation obj = new Calculation(); \n",
    "    obj.sum(10,10,10); \n",
    "    obj.sum(20,20); \n",
    "}\n",
    "```"
   ]
  },
  {
   "cell_type": "markdown",
   "metadata": {},
   "source": [
    "### jawab"
   ]
  },
  {
   "cell_type": "code",
   "execution_count": 14,
   "metadata": {},
   "outputs": [],
   "source": [
    "class Calculation{\n",
    "    public int sum(int x, int y, int z){\n",
    "        return x+y+z; \n",
    "    }\n",
    "    public int sum(int x, int y){\n",
    "        return x+y ; \n",
    "    }\n",
    "}"
   ]
  },
  {
   "cell_type": "code",
   "execution_count": 15,
   "metadata": {},
   "outputs": [
    {
     "data": {
      "text/plain": [
       "30"
      ]
     },
     "execution_count": 15,
     "metadata": {},
     "output_type": "execute_result"
    }
   ],
   "source": [
    "Calculation obj = new Calculation(); \n",
    "obj.sum(10,10,10); "
   ]
  },
  {
   "cell_type": "code",
   "execution_count": 16,
   "metadata": {},
   "outputs": [
    {
     "data": {
      "text/plain": [
       "40"
      ]
     },
     "execution_count": 16,
     "metadata": {},
     "output_type": "execute_result"
    }
   ],
   "source": [
    "obj.sum(20,20); "
   ]
  },
  {
   "cell_type": "markdown",
   "metadata": {},
   "source": [
    "# ETS 2017"
   ]
  },
  {
   "cell_type": "markdown",
   "metadata": {},
   "source": []
  },
  {
   "cell_type": "markdown",
   "metadata": {},
   "source": [
    "# ETS 2018"
   ]
  },
  {
   "cell_type": "markdown",
   "metadata": {},
   "source": [
    "## soal 1\n",
    "\n",
    "```java\n",
    "class Kendaraan{\n",
    "    protected String Merk; \n",
    "    public void CetakKendaraan(){\n",
    "        System.out.println(\"Kendaraan belum diketahui\"); \n",
    "    }\n",
    "}\n",
    "class Mobil extends Kendaraan{\n",
    "    private String NamaMobil; \n",
    "    private String BahanBakarMobil; \n",
    "    public Mobil(){\n",
    "        Merk = \"Mitsu\"; \n",
    "        NamaMobil = \"Pajero\";\n",
    "        BahanBakarMobil = \"Solar\";\n",
    "    }\n",
    "    public Mobil(String nmMobil, String bhnBakarMobil){\n",
    "        NamaMobil = nmMobil; \n",
    "        BahanBakarMobil = bhnBakarMobil; \n",
    "    }\n",
    "    public void setMerk(String Merk){\n",
    "        Merk=merk; \n",
    "    }\n",
    "    public void CetakKendaraan(){\n",
    "        System.out.println(\"Merk Mobil= \" + Merk);\n",
    "        System.out.println(\"Nama Mobil= \" + NamaMobil);\n",
    "        System.out.println(\"Bahan Bakar Mobil= \"+ BahanBakarMobil);\n",
    "    }\n",
    "}\n",
    "```\n"
   ]
  },
  {
   "cell_type": "markdown",
   "metadata": {},
   "source": [
    "### jawaban "
   ]
  },
  {
   "cell_type": "code",
   "execution_count": 23,
   "metadata": {},
   "outputs": [],
   "source": [
    "class Kendaraan{\n",
    "    protected String Merk; \n",
    "    public void CetakKendaraan(){\n",
    "        System.out.println(\"Kendaraan belum diketahui\"); \n",
    "    }\n",
    "}\n",
    "class Mobil extends Kendaraan{\n",
    "    private String NamaMobil; \n",
    "    private String BahanBakarMobil; \n",
    "    public Mobil(){\n",
    "        Merk = \"Mitsu\"; \n",
    "        NamaMobil = \"Pajero\";\n",
    "        BahanBakarMobil = \"Solar\";\n",
    "    }\n",
    "    public Mobil(String nmMobil, String bhnBakarMobil){\n",
    "        NamaMobil = nmMobil; \n",
    "        BahanBakarMobil = bhnBakarMobil; \n",
    "    }\n",
    "    public void setMerk(String merk){\n",
    "        Merk=merk; \n",
    "    }\n",
    "    public void CetakKendaraan(){\n",
    "        System.out.println(\"Merk Mobil= \" + Merk);\n",
    "        System.out.println(\"Nama Mobil= \" + NamaMobil);\n",
    "        System.out.println(\"Bahan Bakar Mobil= \"+ BahanBakarMobil);\n",
    "    }\n",
    "}\n"
   ]
  },
  {
   "cell_type": "code",
   "execution_count": 24,
   "metadata": {},
   "outputs": [
    {
     "name": "stdout",
     "output_type": "stream",
     "text": [
      "Kendaraan belum diketahui\n"
     ]
    }
   ],
   "source": [
    "Kendaraan a = new Kendaraan();\n",
    "a.CetakKendaraan();"
   ]
  },
  {
   "cell_type": "code",
   "execution_count": 25,
   "metadata": {},
   "outputs": [
    {
     "name": "stdout",
     "output_type": "stream",
     "text": [
      "Merk Mobil= Mitsu\n",
      "Nama Mobil= Pajero\n",
      "Bahan Bakar Mobil= Solar\n"
     ]
    }
   ],
   "source": [
    "Mobil b = new Mobil();\n",
    "b.CetakKendaraan(); "
   ]
  },
  {
   "cell_type": "code",
   "execution_count": 27,
   "metadata": {},
   "outputs": [
    {
     "name": "stdout",
     "output_type": "stream",
     "text": [
      "Merk Mobil= Toyota\n",
      "Nama Mobil= Avanza\n",
      "Bahan Bakar Mobil= Bensin\n"
     ]
    }
   ],
   "source": [
    "Mobil c = new Mobil(\"Avanza\",\"Bensin\");\n",
    "c.setMerk(\"Toyota\"); \n",
    "c.CetakKendaraan(); "
   ]
  },
  {
   "cell_type": "markdown",
   "metadata": {},
   "source": [
    "## soal 2\n",
    "### a\n",
    "```java\n",
    "class ayah{\n",
    "    public ayah(){\n",
    "        System.out.println(\"apakah ini constructor di kelas ayah\"); \n",
    "    }\n",
    "}\n",
    "\n",
    "class anak extends ayah{\n",
    "}\n",
    "```\n",
    "### b\n",
    "```java\n",
    "class ayah{\n",
    "    public ayah(int x){}\n",
    "}\n",
    "class anak extends ayah{\n",
    "    public anak(){}\n",
    "}\n",
    "\n",
    "```"
   ]
  },
  {
   "cell_type": "code",
   "execution_count": 29,
   "metadata": {},
   "outputs": [
    {
     "name": "stdout",
     "output_type": "stream",
     "text": [
      "apakah ini constructor di kelas ayah\n"
     ]
    }
   ],
   "source": [
    "class ayah{\n",
    "    public ayah(){\n",
    "        System.out.println(\"apakah ini constructor di kelas ayah\"); \n",
    "    }\n",
    "}\n",
    "\n",
    "class anak extends ayah{\n",
    "}\n",
    "anak b = new anak();"
   ]
  },
  {
   "cell_type": "code",
   "execution_count": 30,
   "metadata": {},
   "outputs": [
    {
     "ename": "CompilationException",
     "evalue": "",
     "output_type": "error",
     "traceback": [
      "\u001b[1m\u001b[31mconstructor ayah in class ayah cannot be applied to given types;\u001b[0m",
      "\u001b[1m\u001b[31m  required: int\u001b[0m",
      "\u001b[1m\u001b[31m  found: no arguments\u001b[0m",
      "\u001b[1m\u001b[31m  reason: actual and formal argument lists differ in length\u001b[0m",
      ""
     ]
    }
   ],
   "source": [
    "class ayah{\n",
    "    public ayah(int x){}\n",
    "}\n",
    "class anak extends ayah{\n",
    "    public anak(){}\n",
    "}"
   ]
  },
  {
   "cell_type": "markdown",
   "metadata": {},
   "source": [
    "## soal 3\n",
    "Desain kelas bernama TitikQu untuk mewakili titik dengan koordinat x dan y, kelas berisi:\n",
    "- data x dan y yang mewakili koordinat dengan metode `getData`\n",
    "- konstruktor no argumen yang menciptakan titik (0,0)\n",
    "- Konstruktor yang membangun dengan koordinat tertentu\n",
    "- Metode bernama jarak() no argumen, euclidean distance dari 0,0\n",
    "- metode bernama `Gradient(TitikQu T)` dengan argumen titik yang mengembalikan nilai gradien dari garis yang melalui dua titik "
   ]
  },
  {
   "cell_type": "markdown",
   "metadata": {},
   "source": [
    "[link to jawaban](soal3_2018.java)"
   ]
  },
  {
   "cell_type": "markdown",
   "metadata": {},
   "source": [
    "## soal 4\n",
    "bikin sendiri"
   ]
  },
  {
   "cell_type": "code",
   "execution_count": null,
   "metadata": {},
   "outputs": [],
   "source": []
  }
 ],
 "metadata": {
  "kernelspec": {
   "display_name": "Java",
   "language": "java",
   "name": "java"
  },
  "language_info": {
   "codemirror_mode": "java",
   "file_extension": ".jshell",
   "mimetype": "text/x-java-source",
   "name": "Java",
   "pygments_lexer": "java",
   "version": "10.0.2+13"
  }
 },
 "nbformat": 4,
 "nbformat_minor": 2
}
